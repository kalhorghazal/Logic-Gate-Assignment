{
 "cells": [
  {
   "cell_type": "markdown",
   "metadata": {},
   "source": [
    "# Genetic Algorithm\n",
    "## Ghazal Kalhor"
   ]
  },
  {
   "cell_type": "markdown",
   "metadata": {},
   "source": [
    "<div style=\"text-align: justify; font-weight: bold;\">\n",
    "<i>Abstract</i> — In this computer assignment, we want to find a\n",
    "suitable solution for the “Gate Detection” problem; this is done by\n",
    "using the Genetic Algorithm that we learnt in Artificial\n",
    "Intelligence.  \n",
    "    \n",
    "<i>Keywords</i> — Gate, Genetic Algorithm, Artificial Intelligence\n",
    " </div>"
   ]
  },
  {
   "cell_type": "markdown",
   "metadata": {},
   "source": [
    "### Introduction\n",
    "<br/>\n",
    "<div style=\"text-align: justify;\"> \n",
    "The aim of this computer assignment is to find a sequence of gates that satisfy the given truth table.\n",
    "</div>"
   ]
  },
  {
   "cell_type": "markdown",
   "metadata": {},
   "source": [
    "### Importing Libraries\n",
    "<br/>\n",
    "<div style=\"text-align: justify;\">\n",
    "In this part, some of the necessary libraries are imported in order to use their helpful functions.\n",
    "</div>"
   ]
  },
  {
   "cell_type": "code",
   "execution_count": 1,
   "metadata": {},
   "outputs": [],
   "source": [
    "import math\n",
    "import random\n",
    "import pandas as pd\n",
    "from time import time"
   ]
  },
  {
   "cell_type": "markdown",
   "metadata": {},
   "source": [
    "### Defining Constants\n",
    "<br/>\n",
    "<div style=\"text-align: justify;\">\n",
    "In this part, constant values are defined in order to make the code more readable and more flexible to change.\n",
    "</div>"
   ]
  },
  {
   "cell_type": "code",
   "execution_count": 2,
   "metadata": {},
   "outputs": [],
   "source": [
    "AND = 0\n",
    "OR = 1\n",
    "XOR = 2\n",
    "NAND = 3\n",
    "NOR = 4\n",
    "XNOR = 5\n",
    "\n",
    "GATES = [AND, OR, XOR, NAND, NOR, XNOR]\n",
    "\n",
    "NEWLINE = '\\n'"
   ]
  },
  {
   "cell_type": "markdown",
   "metadata": {},
   "source": [
    "### Defining Hyperparameters\n",
    "<br/>\n",
    "<div style=\"text-align: justify;\">\n",
    "In this part, hyperparameters that are used in our genetic algorithm are defined. All of them are constant except the probability of mutation that may be changed during the excution of the algorithm based on some conditions. \n",
    "</div>"
   ]
  },
  {
   "cell_type": "code",
   "execution_count": 3,
   "metadata": {},
   "outputs": [],
   "source": [
    "POPULATION_SIZE = 100\n",
    "TOURNAMENT_SIZE = 16\n",
    "LOCAL_OPTIMAL_SIZE = 12\n",
    "CROSSOVER_PROBABILITY = 0.65\n",
    "MUTATION_PROBABILITY = 0.2\n",
    "EXCHANGE_PROBABILITY = 0.5\n",
    "MUTATION_INCREASE = 0.001\n",
    "MUTATION_DECREASE = 0.001\n",
    "MAXIMUM_MUTATION = 0.5"
   ]
  },
  {
   "cell_type": "markdown",
   "metadata": {},
   "source": [
    "### Defining Logical Gates\n",
    "<br/>\n",
    "<div style=\"text-align: justify;\">\n",
    "In this part, we implement the functionality of each logical gate that are used in this computer assignmen.\n",
    "</div>"
   ]
  },
  {
   "cell_type": "code",
   "execution_count": 4,
   "metadata": {},
   "outputs": [],
   "source": [
    "def and_op(a, b):\n",
    "    if a == True and b == True:\n",
    "        return True\n",
    "    else:\n",
    "        return False\n",
    "    \n",
    "def or_op(a, b):\n",
    "    if a == True or b == True:\n",
    "        return True\n",
    "    else:\n",
    "        return False\n",
    "    \n",
    "def xor_op(a, b):\n",
    "    if a != b:\n",
    "        return True\n",
    "    else:\n",
    "        return False\n",
    "    \n",
    "def nand_op(a, b):\n",
    "    if a == True and b == True:\n",
    "        return False\n",
    "    else:\n",
    "        return True\n",
    "    \n",
    "def nor_op(a, b):\n",
    "    if a == False and b == False:\n",
    "        return True\n",
    "    else:\n",
    "        return False\n",
    "    \n",
    "def xnor_op(a, b):\n",
    "    if a == b:\n",
    "        return True\n",
    "    else:\n",
    "        return False"
   ]
  },
  {
   "cell_type": "markdown",
   "metadata": {},
   "source": [
    "### Defining Chromosome and Genes\n",
    "<br/>\n",
    "<div style=\"text-align: justify;\">\n",
    "As we are going to find a sequence of gates, our <b>chromosomes</b> are a list of gates and the order is of importance. Each <b>gene</b> is a gate. Enumeration is used in order to represent each gene.\n",
    "</div>"
   ]
  },
  {
   "cell_type": "markdown",
   "metadata": {},
   "source": [
    "### Initializing Population\n",
    "<br/>\n",
    "<div style=\"text-align: justify;\">\n",
    "In this part, we generate each chromosome and\n",
    "appended it to the population list; this is done by using the\n",
    "“choice” function from Random library in python.\n",
    "</div>"
   ]
  },
  {
   "cell_type": "code",
   "execution_count": 5,
   "metadata": {},
   "outputs": [],
   "source": [
    "def initialize_population(self):\n",
    "    for i in range(POPULATION_SIZE):\n",
    "        chromosome = [random.choice(GATES) for i in range(gate_num)]\n",
    "        self.population.append(chromosome)"
   ]
  },
  {
   "cell_type": "markdown",
   "metadata": {},
   "source": [
    "### Shuffling Population\n",
    "<br/>\n",
    "<div style=\"text-align: justify;\">\n",
    "In this part, we shuffle the population in order to increase diversity; this is done by using the\n",
    "“shuffle” function from Random library in python.\n",
    "</div>"
   ]
  },
  {
   "cell_type": "code",
   "execution_count": 6,
   "metadata": {},
   "outputs": [],
   "source": [
    "def shuffle_population(self):\n",
    "    random.shuffle(self.population)"
   ]
  },
  {
   "cell_type": "markdown",
   "metadata": {},
   "source": [
    "### Evaluating Fitness\n",
    "<br/>\n",
    "<div style=\"text-align: justify;\">\n",
    "In this part, we evaluate fitness for each chromosome\n",
    "in the population. For each chromosome, we iterate over the rows of the truth table and check wether the gate sequence satisfies inputs or not. If the gate sequence satisfies the inputs, we increase its fitness by 1.   \n",
    "    \n",
    "Furthermore, if all of the rows is satisfied by a chromosom, we set the “finished”\n",
    "parameter to true in order to terminate the reproduction cycle.   \n",
    "Also, we have a parameter called best_individuals that whenever we store the best fitness of the population in this parameter.\n",
    "</div>"
   ]
  },
  {
   "cell_type": "code",
   "execution_count": 7,
   "metadata": {},
   "outputs": [],
   "source": [
    "def evaluate_fitness(self):\n",
    "    self.fitness = [0] * POPULATION_SIZE \n",
    "    best_individual = 0\n",
    "    for i in range(POPULATION_SIZE):\n",
    "        chromosome = self.population[i][:]\n",
    "        \n",
    "        for row in truth_table.itertuples():\n",
    "            output = False\n",
    "            \n",
    "            for index, gate in enumerate(chromosome):\n",
    "                if index == 0:\n",
    "                    input_a = row[index+1]\n",
    "                    input_b = row[index+2]\n",
    "                else:\n",
    "                    input_a = output\n",
    "                    \n",
    "                input_b = row[index+2]\n",
    "                \n",
    "                if gate == AND:\n",
    "                    output = and_op(input_a, input_b)\n",
    "                    \n",
    "                elif gate == OR:\n",
    "                    output = or_op(input_a, input_b)\n",
    "                    \n",
    "                elif gate == XOR:\n",
    "                    output = xor_op(input_a, input_b)\n",
    "                    \n",
    "                elif gate == NAND:\n",
    "                    output = nand_op(input_a, input_b)\n",
    "                    \n",
    "                elif gate == NOR:\n",
    "                    output = nor_op(input_a, input_b)\n",
    "                    \n",
    "                elif gate == XNOR:\n",
    "                    output = xnor_op(input_a, input_b)                    \n",
    "                    \n",
    "            if output == row[gate_num+2]:\n",
    "                self.fitness[i] += 1\n",
    "     \n",
    "        if self.fitness[i] == row_num:\n",
    "            self.gate_list = chromosome\n",
    "            self.finished = True\n",
    "            \n",
    "        best_individual = max(self.fitness[i], best_individual)\n",
    "    \n",
    "    self.best_individuals.append(best_individual)"
   ]
  },
  {
   "cell_type": "markdown",
   "metadata": {},
   "source": [
    "### Selecting Parents\n",
    "<br/>\n",
    "<div style=\"text-align: justify;\">\n",
    "In this part, we use the <b>uniform crossover</b> method to select parents. In this method, we select K individuals from the population at random and select the best out of these to become a parent. The same process is repeated for selecting the next parent.\n",
    "</div>"
   ]
  },
  {
   "cell_type": "code",
   "execution_count": 8,
   "metadata": {},
   "outputs": [],
   "source": [
    "def fill_mating_pool(self):\n",
    "    self.mating_pool = []\n",
    "    while len(self.mating_pool) != POPULATION_SIZE:\n",
    "        index = self.tournament_select()\n",
    "        self.mating_pool.append(self.population[index][:])"
   ]
  },
  {
   "cell_type": "code",
   "execution_count": 9,
   "metadata": {},
   "outputs": [],
   "source": [
    "def tournament_select(self):\n",
    "    best_index = -math.inf\n",
    "    for i in range(TOURNAMENT_SIZE):\n",
    "        rand_index = random.randint(0, POPULATION_SIZE-1)\n",
    "        if best_index == -math.inf or self.fitness[best_index] < self.fitness[rand_index]:\n",
    "            best_index = rand_index\n",
    "    return best_index"
   ]
  },
  {
   "cell_type": "markdown",
   "metadata": {},
   "source": [
    "### Defining Crossover Operator\n",
    "<br/>\n",
    "<div style=\"text-align: justify;\">\n",
    "In this part, we use the <b>uniform crossover</b> method for as a crossover operator. In this method, we do not divide the chromosome into segments, rather we treat each gene separately. In this, we essentially flip a coin for each chromosome to decide whether or not it will be included in the child.\n",
    "</div>"
   ]
  },
  {
   "cell_type": "code",
   "execution_count": 10,
   "metadata": {},
   "outputs": [],
   "source": [
    "def apply_crossover(self, chromosome1, chromosome2):\n",
    "    for i in range(self.gate_num):\n",
    "        if random.random() < EXCHANGE_PROBABILITY:\n",
    "            chromosome1[i], chromosome2[i] = chromosome2[i], chromosome1[i]\n",
    "\n",
    "    return chromosome1, chromosome2"
   ]
  },
  {
   "cell_type": "code",
   "execution_count": 11,
   "metadata": {},
   "outputs": [],
   "source": [
    "def crossover(self):\n",
    "    for i in range(0, POPULATION_SIZE, 2):\n",
    "        if random.random() < CROSSOVER_PROBABILITY:\n",
    "            self.mating_pool[i], self.mating_pool[i+1] = \\\n",
    "            self.apply_crossover(self.mating_pool[i], self.mating_pool[i+1])"
   ]
  },
  {
   "cell_type": "markdown",
   "metadata": {},
   "source": [
    "### Defining Mutation Operator\n",
    "<br/>\n",
    "<div style=\"text-align: justify;\">\n",
    "In this part, we use the <b>random resetting</b> method for as a mutation operator. In this method, a random value from the set of permissible values is assigned to a randomly chosen gene.\n",
    "</div>"
   ]
  },
  {
   "cell_type": "code",
   "execution_count": 12,
   "metadata": {},
   "outputs": [],
   "source": [
    "def apply_mutation(self, chromosome, point):\n",
    "    gate_list = chromosome[:]\n",
    "    rand_gate = random.choice(GATES)\n",
    "    while rand_gate == gate_list[point]:\n",
    "        rand_gate = random.choice(GATES)\n",
    "        \n",
    "    gate_list[point] = rand_gate\n",
    "    return gate_list"
   ]
  },
  {
   "cell_type": "code",
   "execution_count": 13,
   "metadata": {},
   "outputs": [],
   "source": [
    "def mutation(self): \n",
    "    for i in range(POPULATION_SIZE):\n",
    "        for j in range(self.gate_num):\n",
    "            if random.random() < MUTATION_PROBABILITY:\n",
    "                point = random.randint(0, self.gate_num-1)\n",
    "                self.mating_pool[i] = self.apply_mutation(self.mating_pool[i], point)"
   ]
  },
  {
   "cell_type": "markdown",
   "metadata": {},
   "source": [
    "### Checking Being in Local Optima\n",
    "<br/>\n",
    "<div style=\"text-align: justify;\">\n",
    "In this part, we check whether we are in local maximum or not. We are in local maximum if a highly fit chromosome gets to reproduce a lot, and in a few generations, the entire population is filled with similar solutions having similar fitness. This reduces diversity which is a very crucial element to ensure the success of a genetic algorithm.\n",
    "</div>"
   ]
  },
  {
   "cell_type": "code",
   "execution_count": 14,
   "metadata": {},
   "outputs": [],
   "source": [
    "def is_in_local_optima(self):\n",
    "    if len(self.best_individuals) < LOCAL_OPTIMAL_SIZE:\n",
    "        return False\n",
    "    last_individuals = self.best_individuals[len(self.best_individuals)-LOCAL_OPTIMAL_SIZE:]\n",
    "    return last_individuals[1:] == last_individuals[:-1]"
   ]
  },
  {
   "cell_type": "markdown",
   "metadata": {},
   "source": [
    "### Reproduction Cycle\n",
    "<br/>\n",
    "<div style=\"text-align: justify;\"> \n",
    "In this part, we repeat the steps that we mentioned\n",
    "above, until we reach the suitable sequence. After each iteration,\n",
    "we copy the obtained mating-pool to the next generation.\n",
    "</div>"
   ]
  },
  {
   "cell_type": "code",
   "execution_count": 15,
   "metadata": {},
   "outputs": [],
   "source": [
    "def run(self):\n",
    "    self.initialize_population()\n",
    "    while self.finished != True:\n",
    "        self.best_individuals = []\n",
    "        self.shuffle_population()\n",
    "        self.evaluate_fitness()\n",
    "        self.fill_mating_pool()\n",
    "        self.crossover()\n",
    "        self.mutation()\n",
    "        self.population = self.mating_pool[:]\n",
    "            \n",
    "        global MUTATION_PROBABILITY\n",
    "        if self.is_in_local_optima():\n",
    "            if MUTATION_PROBABILITY < MAXIMUM_MUTATION:\n",
    "                MUTATION_PROBABILITY += MUTATION_INCREASE\n",
    "                \n",
    "        elif self.best_count > POPULATION_SIZE*0.3:\n",
    "            if MUTATION_PROBABILITY > 0.02:\n",
    "                MUTATION_PROBABILITY -= MUTATION_DECREASE\n",
    "\n",
    "    return self.gate_list"
   ]
  },
  {
   "cell_type": "markdown",
   "metadata": {},
   "source": [
    "### Printing Results\n",
    "<br/>\n",
    "<div style=\"text-align: justify;\"> \n",
    "In this part, we print our solution in form of a gate list.\n",
    "</div>"
   ]
  },
  {
   "cell_type": "code",
   "execution_count": 16,
   "metadata": {},
   "outputs": [],
   "source": [
    "def show_result(self):\n",
    "    gate_list = []\n",
    "    for gate in self.gate_list:\n",
    "        if gate == AND:\n",
    "            gate_list.append('AND')\n",
    "                \n",
    "        elif gate == OR:\n",
    "            gate_list.append('OR')\n",
    "                \n",
    "        elif gate == XOR:\n",
    "            gate_list.append('XOR')\n",
    "                \n",
    "        elif gate == NAND:\n",
    "            gate_list.append('NAND')\n",
    "                \n",
    "        elif gate == NOR:\n",
    "            gate_list.append('NOR')\n",
    "                \n",
    "        elif gate == XNOR:\n",
    "            gate_list.append('XNOR')\n",
    "                \n",
    "    print(gate_list)"
   ]
  },
  {
   "cell_type": "markdown",
   "metadata": {},
   "source": [
    "### Defining Genetic Algorithm Class\n",
    "<br/>\n",
    "<div style=\"text-align: justify;\"> \n",
    "In this part, we define a class for the algorithm that includes the methods that we discussed above and parameters that are used during the execuition of the algorithm.\n",
    "</div>"
   ]
  },
  {
   "cell_type": "code",
   "execution_count": 17,
   "metadata": {},
   "outputs": [],
   "source": [
    "class GA:\n",
    "    def __init__(self, truth_table, gate_num, row_num):\n",
    "        self.truth_table = truth_table\n",
    "        self.gate_num = gate_num\n",
    "        self.row_num = row_num\n",
    "        self.best_count = 0\n",
    "        self.population = []\n",
    "        self.mating_pool = []\n",
    "        self.fitness = [0] * POPULATION_SIZE \n",
    "        self.gate_list = []\n",
    "        self.finished = False\n",
    "        \n",
    "    initialize_population = initialize_population\n",
    "    shuffle_population = shuffle_population\n",
    "    evaluate_fitness = evaluate_fitness\n",
    "    fill_mating_pool = fill_mating_pool\n",
    "    tournament_select = tournament_select\n",
    "    apply_crossover = apply_crossover\n",
    "    crossover = crossover\n",
    "    apply_mutation = apply_mutation\n",
    "    mutation = mutation\n",
    "    is_in_local_optima = is_in_local_optima\n",
    "    run = run\n",
    "    show_result = show_result"
   ]
  },
  {
   "cell_type": "markdown",
   "metadata": {},
   "source": [
    "### Imorting Data\n",
    "Contents of file truth_table.csv was read using pd.read_csv and then stored in the advertising dataframe."
   ]
  },
  {
   "cell_type": "code",
   "execution_count": 18,
   "metadata": {},
   "outputs": [],
   "source": [
    "truth_table = pd.read_csv('truth_table.csv')\n",
    "gate_num = len(truth_table.columns)-2\n",
    "row_num = len(truth_table.index)"
   ]
  },
  {
   "cell_type": "markdown",
   "metadata": {},
   "source": [
    "### Running Algorithm"
   ]
  },
  {
   "cell_type": "code",
   "execution_count": 19,
   "metadata": {},
   "outputs": [],
   "source": [
    "def run_GA():\n",
    "    ga = GA(truth_table, gate_num, row_num)\n",
    "    start = time()\n",
    "    result = ga.run()\n",
    "    finish = time()\n",
    "    ga.show_result()\n",
    "    duration = finish - start\n",
    "    print(\"Execution Time: \" + str(duration) + NEWLINE)"
   ]
  },
  {
   "cell_type": "code",
   "execution_count": 20,
   "metadata": {},
   "outputs": [
    {
     "name": "stdout",
     "output_type": "stream",
     "text": [
      "['NAND', 'XNOR', 'OR', 'XNOR', 'AND', 'OR', 'AND', 'XOR', 'NOR']\n",
      "Execution Time: 22.15294599533081\n",
      "\n"
     ]
    }
   ],
   "source": [
    "run_GA()"
   ]
  },
  {
   "cell_type": "markdown",
   "metadata": {},
   "source": [
    "### The Critera of Choosing Fitness Function\n",
    "<br/>\n",
    "<div style=\"text-align: justify;\">\n",
    "We consider these criteria to choose our fitness function:\n",
    "<ul>\n",
    "  <li>It should be sufficiently fast to compute.</li>\n",
    "  <li>It must quantitatively measure how fit a given solution is or how fit individuals can be produced from the given solution.</li>\n",
    "</ul>\n",
    "Our fitness function satisfies these criteria and its suitable for this problem.\n",
    "</div>"
   ]
  },
  {
   "cell_type": "markdown",
   "metadata": {},
   "source": [
    "### The Reason of Choosing Tournament Selection\n",
    "<br/>\n",
    "<div style=\"text-align: justify;\">\n",
    "We choose tournament selection because it can be implemented efficiently as no sorting of the\n",
    "population is not required. Tournament\n",
    "selection is similar to rank selection in terms of selection\n",
    "pressure, but it is computationally more efficient and more\n",
    "amenable.\n",
    "</div>"
   ]
  },
  {
   "cell_type": "markdown",
   "metadata": {},
   "source": [
    "### The Effect of Mutation \n",
    "<br/>\n",
    "<div style=\"text-align: justify;\">\n",
    "The effect of mutation is to increase the diversity in\n",
    "the population and avoid converging to local minimum\n",
    "(maximum). If we do not use this operator, the individuals in\n",
    "the population will be too similar, the speed of the algorithm\n",
    "will be reduced and in some cases, the algorithm will not\n",
    "reach the goal.  \n",
    "\n",
    "We consider <b>0.2</b> as the initial value for the <b>mutation probability</b> and it is variable during the execution of the algorithm. Whenever we are close to the solution, we decrease it by 0.001 and whenever we are in a local maximum, we increase it by 0.001. Also we cosider 0.5 as an upper bound for the mutation.\n",
    "</div>"
   ]
  },
  {
   "cell_type": "markdown",
   "metadata": {},
   "source": [
    "### The Effect of Crossover \n",
    "<br/>\n",
    "<div style=\"text-align: justify;\">\n",
    "The aim of crossover operator is to obtain\n",
    "descendants of better quality that will feed the next generation and enable the search to explore new regions of solution space not explored yet.   \n",
    "    \n",
    "We consider <b>0.65</b> for the <b>crossover probability</b> and it is constant during the execution of the algorithm.\n",
    "</div>"
   ]
  },
  {
   "cell_type": "markdown",
   "metadata": {},
   "source": [
    "### Comparison between Crossover and Mutation\n",
    "<br/>\n",
    "<div style=\"text-align: justify;\">\n",
    "Crossover is “a must” operator in genetic algorithm and is usually\n",
    "applied with high probability, while mutation operators\n",
    "when implemented are applied with small probability. The\n",
    "rationale is that a large mutation rate would make the genetic algorithm\n",
    "search to resemble a random search. Therefore, mutation\n",
    "operator is usually considered as a secondary operator.\n",
    "</div>"
   ]
  },
  {
   "cell_type": "markdown",
   "metadata": {},
   "source": [
    "### Increasing Diversity\n",
    "<br/>\n",
    "<div style=\"text-align: justify;\">\n",
    "To reach this goal, we use random selection in different\n",
    "steps of the algorithm. <b>Firstly</b>, we randomly select\n",
    "crossover and mutation points by using the “randint”. <b>Secondly</b>. we\n",
    "initialize the population randomly. <b>Thirdly</b>, based\n",
    "on the class discussion, we find out a way to optimize the\n",
    "algorithm. The closer to the solution the algorithm gets, the\n",
    "lower mutation probability we need. Therefore we decided to\n",
    "reduce this parameter after each iteration with considering a\n",
    "lower bound. <b>Finally</b>, we increased the mutation probability when we detect that we are in the local maximum.\n",
    "</div>"
   ]
  },
  {
   "cell_type": "markdown",
   "metadata": {},
   "source": [
    "### Conclusion\n",
    "<br/>\n",
    "<div style=\"text-align: justify;\"> \n",
    "In this computer assignment we learned that genetic\n",
    "algorithms are good methods to solve optimization problems,\n",
    "when the search space is very large. Also we were introduced\n",
    "to one of the applications of Artificial Intelligence in design of logic circuits.\n",
    "</div>"
   ]
  },
  {
   "cell_type": "markdown",
   "metadata": {},
   "source": [
    "### References\n",
    "<br/>\n",
    "<div style=\"text-align: justify;\"> \n",
    "[1] Barolli, A., Oda, T., Spaho, E., Xhafa, F., Barolli, L. and Takizawa, M., 2011, October. Effects of Mutation and Crossover in Genetic Algorithms for Node Placement in WMNs Considering Giant Component Parameter. In 2011 International Conference on Broadband and Wireless Computing, Communication and Applications (pp. 18-25). IEEE.\n",
    "\n",
    "[2] <i>Tutorialpoints, Genetic Algorithms Tutorial - URL:</i>  \n",
    "https://www.tutorialspoint.com/genetic_algorithms/index.htm\n",
    "</div>"
   ]
  },
  {
   "cell_type": "code",
   "execution_count": null,
   "metadata": {},
   "outputs": [],
   "source": []
  }
 ],
 "metadata": {
  "kernelspec": {
   "display_name": "Python 3",
   "language": "python",
   "name": "python3"
  },
  "language_info": {
   "codemirror_mode": {
    "name": "ipython",
    "version": 3
   },
   "file_extension": ".py",
   "mimetype": "text/x-python",
   "name": "python",
   "nbconvert_exporter": "python",
   "pygments_lexer": "ipython3",
   "version": "3.7.3"
  }
 },
 "nbformat": 4,
 "nbformat_minor": 2
}
